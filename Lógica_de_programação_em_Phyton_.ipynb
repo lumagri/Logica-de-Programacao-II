{
  "nbformat": 4,
  "nbformat_minor": 0,
  "metadata": {
    "colab": {
      "provenance": [],
      "authorship_tag": "ABX9TyMylztkM0iG2nArCzWD040W",
      "include_colab_link": true
    },
    "kernelspec": {
      "name": "python3",
      "display_name": "Python 3"
    },
    "language_info": {
      "name": "python"
    }
  },
  "cells": [
    {
      "cell_type": "markdown",
      "metadata": {
        "id": "view-in-github",
        "colab_type": "text"
      },
      "source": [
        "<a href=\"https://colab.research.google.com/github/lumagri/Logica-de-Programacao-II/blob/main/L%C3%B3gica_de_programa%C3%A7%C3%A3o_em_Phyton_.ipynb\" target=\"_parent\"><img src=\"https://colab.research.google.com/assets/colab-badge.svg\" alt=\"Open In Colab\"/></a>"
      ]
    },
    {
      "cell_type": "markdown",
      "source": [],
      "metadata": {
        "id": "6F9mEkyfj0QH"
      }
    },
    {
      "cell_type": "markdown",
      "source": [
        "## Lógica de Programação com Python\n",
        "\n"
      ],
      "metadata": {
        "id": "dIN6lH3IjGQZ"
      }
    },
    {
      "cell_type": "code",
      "source": [
        "1+1"
      ],
      "metadata": {
        "colab": {
          "base_uri": "https://localhost:8080/"
        },
        "id": "Iht29gk3gy4K",
        "outputId": "ba489ee8-fb60-4527-d755-f73515f55cb3"
      },
      "execution_count": 41,
      "outputs": [
        {
          "output_type": "execute_result",
          "data": {
            "text/plain": [
              "2"
            ]
          },
          "metadata": {},
          "execution_count": 41
        }
      ]
    },
    {
      "cell_type": "code",
      "source": [
        "\"Luciane\""
      ],
      "metadata": {
        "colab": {
          "base_uri": "https://localhost:8080/",
          "height": 35
        },
        "id": "fS5kyjAKg81r",
        "outputId": "fe1ea00f-74d4-44a9-bd48-ec997f6ded9d"
      },
      "execution_count": 42,
      "outputs": [
        {
          "output_type": "execute_result",
          "data": {
            "text/plain": [
              "'Luciane'"
            ],
            "application/vnd.google.colaboratory.intrinsic+json": {
              "type": "string"
            }
          },
          "metadata": {},
          "execution_count": 42
        }
      ]
    },
    {
      "cell_type": "code",
      "source": [
        "nome = \"Luciane\""
      ],
      "metadata": {
        "id": "G5u5xVlFhMhM"
      },
      "execution_count": 43,
      "outputs": []
    },
    {
      "cell_type": "code",
      "source": [
        "nome"
      ],
      "metadata": {
        "colab": {
          "base_uri": "https://localhost:8080/",
          "height": 35
        },
        "id": "5C-yOuQ_hpAa",
        "outputId": "fbe4c36b-5869-48fa-b6a4-b7ff98117ed1"
      },
      "execution_count": 44,
      "outputs": [
        {
          "output_type": "execute_result",
          "data": {
            "text/plain": [
              "'Luciane'"
            ],
            "application/vnd.google.colaboratory.intrinsic+json": {
              "type": "string"
            }
          },
          "metadata": {},
          "execution_count": 44
        }
      ]
    },
    {
      "cell_type": "code",
      "source": [
        "idade = 35"
      ],
      "metadata": {
        "id": "SLbDuepIhqtA"
      },
      "execution_count": 45,
      "outputs": []
    },
    {
      "cell_type": "code",
      "source": [
        "idade"
      ],
      "metadata": {
        "colab": {
          "base_uri": "https://localhost:8080/"
        },
        "id": "xOVI0K3Uhuml",
        "outputId": "57c94d4a-42ad-48c2-af91-41e0e9983076"
      },
      "execution_count": 46,
      "outputs": [
        {
          "output_type": "execute_result",
          "data": {
            "text/plain": [
              "35"
            ]
          },
          "metadata": {},
          "execution_count": 46
        }
      ]
    },
    {
      "cell_type": "code",
      "source": [
        "print(f\"O nome é {nome} e sua idade é {idade} anos\")"
      ],
      "metadata": {
        "colab": {
          "base_uri": "https://localhost:8080/"
        },
        "id": "7jRawAV3hyGZ",
        "outputId": "b1e56646-b047-491f-9d47-741bacf43a9c"
      },
      "execution_count": 47,
      "outputs": [
        {
          "output_type": "stream",
          "name": "stdout",
          "text": [
            "O nome é Luciane e sua idade é 35 anos\n"
          ]
        }
      ]
    },
    {
      "cell_type": "markdown",
      "source": [
        "## Criando minha primeira função"
      ],
      "metadata": {
        "id": "W9akIr_Hi7tO"
      }
    },
    {
      "cell_type": "code",
      "source": [
        "def saudacao():\n",
        "  nome = input('Qual o seu nome? ')\n",
        "  print(f'Olá {nome}')\n"
      ],
      "metadata": {
        "id": "8_OaAiGNlB2T"
      },
      "execution_count": 48,
      "outputs": []
    },
    {
      "cell_type": "code",
      "source": [
        "saudacao()"
      ],
      "metadata": {
        "colab": {
          "base_uri": "https://localhost:8080/"
        },
        "id": "339rOaSjTKeU",
        "outputId": "f7fa8cc5-c022-4e09-d49c-e9d77437824c"
      },
      "execution_count": 49,
      "outputs": [
        {
          "output_type": "stream",
          "name": "stdout",
          "text": [
            "Qual o seu nome? Luciane\n",
            "Olá Luciane\n"
          ]
        }
      ]
    },
    {
      "cell_type": "code",
      "source": [
        "def viagem():\n",
        "  destino = input('Qual o destino da viagem dos seus sonhos? ')\n",
        "  print(f'Sua viagem dos sonhos será para {destino}')\n"
      ],
      "metadata": {
        "id": "rXSqMxclYvK1"
      },
      "execution_count": 50,
      "outputs": []
    },
    {
      "cell_type": "code",
      "source": [
        "viagem()"
      ],
      "metadata": {
        "colab": {
          "base_uri": "https://localhost:8080/"
        },
        "id": "TGYfnzUXZn1s",
        "outputId": "ba58039f-e749-4bef-f025-7455346ff721"
      },
      "execution_count": 51,
      "outputs": [
        {
          "output_type": "stream",
          "name": "stdout",
          "text": [
            "Qual o destino da viagem dos seus sonhos? nao sei\n",
            "Sua viagem dos sonhos será para nao sei\n"
          ]
        }
      ]
    },
    {
      "cell_type": "markdown",
      "source": [
        "# Parâmetros"
      ],
      "metadata": {
        "id": "jJICIFLETqBL"
      }
    },
    {
      "cell_type": "code",
      "source": [
        "nome = \"LuLu\""
      ],
      "metadata": {
        "id": "chreP6yiarrE"
      },
      "execution_count": 52,
      "outputs": []
    },
    {
      "cell_type": "code",
      "source": [
        "def saudacao_com_parametros(nome_da_pessoa):\n",
        "  print(f'Olá {nome_da_pessoa}')"
      ],
      "metadata": {
        "id": "u7ArCbtETwiA"
      },
      "execution_count": 53,
      "outputs": []
    },
    {
      "cell_type": "code",
      "source": [
        "saudacao_com_parametros(nome)"
      ],
      "metadata": {
        "colab": {
          "base_uri": "https://localhost:8080/"
        },
        "id": "aQglGPBhUKMP",
        "outputId": "46966505-df52-439b-f267-375655a0caf0"
      },
      "execution_count": 54,
      "outputs": [
        {
          "output_type": "stream",
          "name": "stdout",
          "text": [
            "Olá LuLu\n"
          ]
        }
      ]
    },
    {
      "cell_type": "markdown",
      "source": [
        "# Condicional\n"
      ],
      "metadata": {
        "id": "Ibbr9747XBNT"
      }
    },
    {
      "cell_type": "code",
      "source": [
        "idade = 21\n",
        "\n",
        "def verifica_se_pode_dirigir(idade):\n",
        "  if idade>= 18:\n",
        "    print('Tem permissão para dirigir')\n",
        "  else:\n",
        "    print('Não tem permissão para dirigir')"
      ],
      "metadata": {
        "id": "Ja3DnTK7XIFp"
      },
      "execution_count": 55,
      "outputs": []
    },
    {
      "cell_type": "code",
      "source": [
        "verifica_se_pode_dirigir(idade)"
      ],
      "metadata": {
        "id": "7hCFPkYDYnUg",
        "colab": {
          "base_uri": "https://localhost:8080/"
        },
        "outputId": "777855aa-ed66-4914-df81-4e1629727f5d"
      },
      "execution_count": 56,
      "outputs": [
        {
          "output_type": "stream",
          "name": "stdout",
          "text": [
            "Tem permissão para dirigir\n"
          ]
        }
      ]
    },
    {
      "cell_type": "markdown",
      "source": [
        "#Convertendo tipo para inteiro"
      ],
      "metadata": {
        "id": "BiKKzDFMfUvD"
      }
    },
    {
      "cell_type": "code",
      "source": [
        "def verifica_se_pode_dirigir_sem_parametro():\n",
        "  idade = input(\"Qual sua idade? \")\n",
        "  idade = int(idade) # converte uma string para um número inteiro. Isso é necessário aqui, pois a variável está dentro da função que não sabe diferenciar a string de número.\n",
        "  if idade>= 18:\n",
        "    print('Tem permissão para dirigir')\n",
        "  else:\n",
        "    print('Não tem permissão para dirigir')\n",
        "\n",
        "verifica_se_pode_dirigir_sem_parametro()    "
      ],
      "metadata": {
        "colab": {
          "base_uri": "https://localhost:8080/"
        },
        "id": "nTEL-P8Mc0Yu",
        "outputId": "b9993146-acb5-4707-eb1c-43ae2341c36e"
      },
      "execution_count": 57,
      "outputs": [
        {
          "output_type": "stream",
          "name": "stdout",
          "text": [
            "Qual sua idade? 34\n",
            "Tem permissão para dirigir\n"
          ]
        }
      ]
    },
    {
      "cell_type": "markdown",
      "source": [
        "#Práticando criação de função\n",
        "Indo até a padaria. "
      ],
      "metadata": {
        "id": "Rgda7LVkf_Q8"
      }
    },
    {
      "cell_type": "code",
      "source": [
        "def velocidade(espaco, tempo):\n",
        "  v = espaco / tempo\n",
        "  print(f'Velocidade: {v} m/s')\n",
        " \n"
      ],
      "metadata": {
        "id": "N321Xp3Cf-SU"
      },
      "execution_count": 58,
      "outputs": []
    },
    {
      "cell_type": "code",
      "source": [
        "velocidade(100, 20)"
      ],
      "metadata": {
        "colab": {
          "base_uri": "https://localhost:8080/"
        },
        "id": "ZokyDYtDhpEc",
        "outputId": "b3f5f4e7-e559-4d8d-e8f3-40969086ebbc"
      },
      "execution_count": 59,
      "outputs": [
        {
          "output_type": "stream",
          "name": "stdout",
          "text": [
            "Velocidade: 5.0 m/s\n"
          ]
        }
      ]
    }
  ]
}